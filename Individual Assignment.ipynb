{
 "cells": [
  {
   "cell_type": "code",
   "execution_count": 1,
   "metadata": {},
   "outputs": [
    {
     "name": "stdout",
     "output_type": "stream",
     "text": [
      "Num GPUs Available:  1\n"
     ]
    }
   ],
   "source": [
    "import pandas as pd\n",
    "import numpy as np\n",
    "import matplotlib\n",
    "import matplotlib.pyplot as plt\n",
    "import seaborn as sb\n",
    "import tensorflow as tf\n",
    "print(\"Num GPUs Available: \", len(tf.config.experimental.list_physical_devices('GPU')))\n",
    "import os\n",
    "os.environ[\"CUDA_VISIBLE_DEVICES\"] = \"-1\""
   ]
  },
  {
   "cell_type": "code",
   "execution_count": 2,
   "metadata": {},
   "outputs": [
    {
     "data": {
      "text/html": [
       "<div>\n",
       "<style scoped>\n",
       "    .dataframe tbody tr th:only-of-type {\n",
       "        vertical-align: middle;\n",
       "    }\n",
       "\n",
       "    .dataframe tbody tr th {\n",
       "        vertical-align: top;\n",
       "    }\n",
       "\n",
       "    .dataframe thead th {\n",
       "        text-align: right;\n",
       "    }\n",
       "</style>\n",
       "<table border=\"1\" class=\"dataframe\">\n",
       "  <thead>\n",
       "    <tr style=\"text-align: right;\">\n",
       "      <th></th>\n",
       "      <th>income</th>\n",
       "      <th>age</th>\n",
       "      <th>loan</th>\n",
       "      <th>default</th>\n",
       "    </tr>\n",
       "  </thead>\n",
       "  <tbody>\n",
       "    <tr>\n",
       "      <th>0</th>\n",
       "      <td>66155.925100</td>\n",
       "      <td>59.017015</td>\n",
       "      <td>8106.532131</td>\n",
       "      <td>0</td>\n",
       "    </tr>\n",
       "    <tr>\n",
       "      <th>1</th>\n",
       "      <td>34415.153970</td>\n",
       "      <td>48.117153</td>\n",
       "      <td>6564.745018</td>\n",
       "      <td>0</td>\n",
       "    </tr>\n",
       "    <tr>\n",
       "      <th>2</th>\n",
       "      <td>57317.170060</td>\n",
       "      <td>63.108049</td>\n",
       "      <td>8020.953296</td>\n",
       "      <td>0</td>\n",
       "    </tr>\n",
       "    <tr>\n",
       "      <th>3</th>\n",
       "      <td>42709.534200</td>\n",
       "      <td>45.751972</td>\n",
       "      <td>6103.642260</td>\n",
       "      <td>0</td>\n",
       "    </tr>\n",
       "    <tr>\n",
       "      <th>4</th>\n",
       "      <td>66952.688850</td>\n",
       "      <td>18.584336</td>\n",
       "      <td>8770.099235</td>\n",
       "      <td>1</td>\n",
       "    </tr>\n",
       "    <tr>\n",
       "      <th>...</th>\n",
       "      <td>...</td>\n",
       "      <td>...</td>\n",
       "      <td>...</td>\n",
       "      <td>...</td>\n",
       "    </tr>\n",
       "    <tr>\n",
       "      <th>3423</th>\n",
       "      <td>60903.191726</td>\n",
       "      <td>21.933924</td>\n",
       "      <td>10367.081892</td>\n",
       "      <td>1</td>\n",
       "    </tr>\n",
       "    <tr>\n",
       "      <th>3424</th>\n",
       "      <td>62235.644695</td>\n",
       "      <td>25.033016</td>\n",
       "      <td>8083.900063</td>\n",
       "      <td>1</td>\n",
       "    </tr>\n",
       "    <tr>\n",
       "      <th>3425</th>\n",
       "      <td>25597.850590</td>\n",
       "      <td>26.350344</td>\n",
       "      <td>3810.110335</td>\n",
       "      <td>1</td>\n",
       "    </tr>\n",
       "    <tr>\n",
       "      <th>3426</th>\n",
       "      <td>48164.194974</td>\n",
       "      <td>23.141976</td>\n",
       "      <td>6529.652892</td>\n",
       "      <td>1</td>\n",
       "    </tr>\n",
       "    <tr>\n",
       "      <th>3427</th>\n",
       "      <td>33055.808635</td>\n",
       "      <td>26.289612</td>\n",
       "      <td>5351.851138</td>\n",
       "      <td>1</td>\n",
       "    </tr>\n",
       "  </tbody>\n",
       "</table>\n",
       "<p>3428 rows × 4 columns</p>\n",
       "</div>"
      ],
      "text/plain": [
       "            income        age          loan  default\n",
       "0     66155.925100  59.017015   8106.532131        0\n",
       "1     34415.153970  48.117153   6564.745018        0\n",
       "2     57317.170060  63.108049   8020.953296        0\n",
       "3     42709.534200  45.751972   6103.642260        0\n",
       "4     66952.688850  18.584336   8770.099235        1\n",
       "...            ...        ...           ...      ...\n",
       "3423  60903.191726  21.933924  10367.081892        1\n",
       "3424  62235.644695  25.033016   8083.900063        1\n",
       "3425  25597.850590  26.350344   3810.110335        1\n",
       "3426  48164.194974  23.141976   6529.652892        1\n",
       "3427  33055.808635  26.289612   5351.851138        1\n",
       "\n",
       "[3428 rows x 4 columns]"
      ]
     },
     "execution_count": 2,
     "metadata": {},
     "output_type": "execute_result"
    }
   ],
   "source": [
    "df = pd.read_csv(\"Credit Card Default II (balance).csv\")\n",
    "df"
   ]
  },
  {
   "cell_type": "markdown",
   "metadata": {},
   "source": [
    "### Data Exploratory Analysis"
   ]
  },
  {
   "cell_type": "code",
   "execution_count": 3,
   "metadata": {},
   "outputs": [
    {
     "data": {
      "text/plain": [
       "array([[<matplotlib.axes._subplots.AxesSubplot object at 0x000001D831E524C8>,\n",
       "        <matplotlib.axes._subplots.AxesSubplot object at 0x000001D831EA48C8>],\n",
       "       [<matplotlib.axes._subplots.AxesSubplot object at 0x000001D831EE1348>,\n",
       "        <matplotlib.axes._subplots.AxesSubplot object at 0x000001D832046F48>]],\n",
       "      dtype=object)"
      ]
     },
     "execution_count": 3,
     "metadata": {},
     "output_type": "execute_result"
    },
    {
     "data": {
      "image/png": "[encoded data removed]",
      "text/plain": [
       "<Figure size 432x288 with 4 Axes>"
      ]
     },
     "metadata": {
      "needs_background": "light"
     },
     "output_type": "display_data"
    }
   ],
   "source": [
    "df.hist()"
   ]
  },
  {
   "cell_type": "code",
   "execution_count": 4,
   "metadata": {},
   "outputs": [
    {
     "data": {
      "text/plain": [
       "income     float64\n",
       "age        float64\n",
       "loan       float64\n",
       "default      int64\n",
       "dtype: object"
      ]
     },
     "execution_count": 4,
     "metadata": {},
     "output_type": "execute_result"
    }
   ],
   "source": [
    "df.dtypes"
   ]
  },
  {
   "cell_type": "code",
   "execution_count": 5,
   "metadata": {},
   "outputs": [
    {
     "data": {
      "text/plain": [
       "income     0\n",
       "age        0\n",
       "loan       0\n",
       "default    0\n",
       "dtype: int64"
      ]
     },
     "execution_count": 5,
     "metadata": {},
     "output_type": "execute_result"
    }
   ],
   "source": [
    "df.isnull().sum()"
   ]
  },
  {
   "cell_type": "markdown",
   "metadata": {},
   "source": [
    "No categorical data, thus creating dummy variables is not required. No missing or NaN data in the entire dataset."
   ]
  },
  {
   "cell_type": "code",
   "execution_count": 6,
   "metadata": {},
   "outputs": [
    {
     "data": {
      "text/html": [
       "<div>\n",
       "<style scoped>\n",
       "    .dataframe tbody tr th:only-of-type {\n",
       "        vertical-align: middle;\n",
       "    }\n",
       "\n",
       "    .dataframe tbody tr th {\n",
       "        vertical-align: top;\n",
       "    }\n",
       "\n",
       "    .dataframe thead th {\n",
       "        text-align: right;\n",
       "    }\n",
       "</style>\n",
       "<table border=\"1\" class=\"dataframe\">\n",
       "  <thead>\n",
       "    <tr style=\"text-align: right;\">\n",
       "      <th></th>\n",
       "      <th>income</th>\n",
       "      <th>age</th>\n",
       "      <th>loan</th>\n",
       "      <th>default</th>\n",
       "    </tr>\n",
       "  </thead>\n",
       "  <tbody>\n",
       "    <tr>\n",
       "      <th>count</th>\n",
       "      <td>3428.000000</td>\n",
       "      <td>3428.000000</td>\n",
       "      <td>3428.000000</td>\n",
       "      <td>3428.000000</td>\n",
       "    </tr>\n",
       "    <tr>\n",
       "      <th>mean</th>\n",
       "      <td>45136.875975</td>\n",
       "      <td>34.795950</td>\n",
       "      <td>5591.986695</td>\n",
       "      <td>0.500000</td>\n",
       "    </tr>\n",
       "    <tr>\n",
       "      <th>std</th>\n",
       "      <td>14425.486619</td>\n",
       "      <td>12.840055</td>\n",
       "      <td>3174.522430</td>\n",
       "      <td>0.500073</td>\n",
       "    </tr>\n",
       "    <tr>\n",
       "      <th>min</th>\n",
       "      <td>20014.489470</td>\n",
       "      <td>-52.423280</td>\n",
       "      <td>1.377630</td>\n",
       "      <td>0.000000</td>\n",
       "    </tr>\n",
       "    <tr>\n",
       "      <th>25%</th>\n",
       "      <td>32827.211177</td>\n",
       "      <td>25.171939</td>\n",
       "      <td>3103.357467</td>\n",
       "      <td>0.000000</td>\n",
       "    </tr>\n",
       "    <tr>\n",
       "      <th>50%</th>\n",
       "      <td>45546.632873</td>\n",
       "      <td>30.086842</td>\n",
       "      <td>5540.305046</td>\n",
       "      <td>0.500000</td>\n",
       "    </tr>\n",
       "    <tr>\n",
       "      <th>75%</th>\n",
       "      <td>57514.794130</td>\n",
       "      <td>44.369461</td>\n",
       "      <td>7809.377943</td>\n",
       "      <td>1.000000</td>\n",
       "    </tr>\n",
       "    <tr>\n",
       "      <th>max</th>\n",
       "      <td>69995.685580</td>\n",
       "      <td>63.971796</td>\n",
       "      <td>13766.051240</td>\n",
       "      <td>1.000000</td>\n",
       "    </tr>\n",
       "  </tbody>\n",
       "</table>\n",
       "</div>"
      ],
      "text/plain": [
       "             income          age          loan      default\n",
       "count   3428.000000  3428.000000   3428.000000  3428.000000\n",
       "mean   45136.875975    34.795950   5591.986695     0.500000\n",
       "std    14425.486619    12.840055   3174.522430     0.500073\n",
       "min    20014.489470   -52.423280      1.377630     0.000000\n",
       "25%    32827.211177    25.171939   3103.357467     0.000000\n",
       "50%    45546.632873    30.086842   5540.305046     0.500000\n",
       "75%    57514.794130    44.369461   7809.377943     1.000000\n",
       "max    69995.685580    63.971796  13766.051240     1.000000"
      ]
     },
     "execution_count": 6,
     "metadata": {},
     "output_type": "execute_result"
    }
   ],
   "source": [
    "df.describe()"
   ]
  },
  {
   "cell_type": "markdown",
   "metadata": {},
   "source": [
    "Here we notice that age has a negatve minimum value."
   ]
  },
  {
   "cell_type": "code",
   "execution_count": 7,
   "metadata": {},
   "outputs": [
    {
     "data": {
      "text/html": [
       "<div>\n",
       "<style scoped>\n",
       "    .dataframe tbody tr th:only-of-type {\n",
       "        vertical-align: middle;\n",
       "    }\n",
       "\n",
       "    .dataframe tbody tr th {\n",
       "        vertical-align: top;\n",
       "    }\n",
       "\n",
       "    .dataframe thead th {\n",
       "        text-align: right;\n",
       "    }\n",
       "</style>\n",
       "<table border=\"1\" class=\"dataframe\">\n",
       "  <thead>\n",
       "    <tr style=\"text-align: right;\">\n",
       "      <th></th>\n",
       "      <th>income</th>\n",
       "      <th>age</th>\n",
       "      <th>loan</th>\n",
       "      <th>default</th>\n",
       "    </tr>\n",
       "  </thead>\n",
       "  <tbody>\n",
       "    <tr>\n",
       "      <th>21</th>\n",
       "      <td>32197.62070</td>\n",
       "      <td>-52.423280</td>\n",
       "      <td>4244.057136</td>\n",
       "      <td>0</td>\n",
       "    </tr>\n",
       "    <tr>\n",
       "      <th>26</th>\n",
       "      <td>63287.03891</td>\n",
       "      <td>-36.496976</td>\n",
       "      <td>9595.286289</td>\n",
       "      <td>0</td>\n",
       "    </tr>\n",
       "    <tr>\n",
       "      <th>15</th>\n",
       "      <td>50501.72669</td>\n",
       "      <td>-28.218361</td>\n",
       "      <td>3977.287432</td>\n",
       "      <td>0</td>\n",
       "    </tr>\n",
       "    <tr>\n",
       "      <th>1749</th>\n",
       "      <td>67119.13596</td>\n",
       "      <td>18.055189</td>\n",
       "      <td>2725.240313</td>\n",
       "      <td>0</td>\n",
       "    </tr>\n",
       "    <tr>\n",
       "      <th>1680</th>\n",
       "      <td>29856.48632</td>\n",
       "      <td>18.055874</td>\n",
       "      <td>4731.816864</td>\n",
       "      <td>1</td>\n",
       "    </tr>\n",
       "    <tr>\n",
       "      <th>...</th>\n",
       "      <td>...</td>\n",
       "      <td>...</td>\n",
       "      <td>...</td>\n",
       "      <td>...</td>\n",
       "    </tr>\n",
       "    <tr>\n",
       "      <th>931</th>\n",
       "      <td>45783.15475</td>\n",
       "      <td>63.885044</td>\n",
       "      <td>7492.909820</td>\n",
       "      <td>0</td>\n",
       "    </tr>\n",
       "    <tr>\n",
       "      <th>1848</th>\n",
       "      <td>40522.82828</td>\n",
       "      <td>63.887141</td>\n",
       "      <td>7720.780489</td>\n",
       "      <td>0</td>\n",
       "    </tr>\n",
       "    <tr>\n",
       "      <th>401</th>\n",
       "      <td>62553.66841</td>\n",
       "      <td>63.924976</td>\n",
       "      <td>4641.704785</td>\n",
       "      <td>0</td>\n",
       "    </tr>\n",
       "    <tr>\n",
       "      <th>939</th>\n",
       "      <td>29178.97759</td>\n",
       "      <td>63.930735</td>\n",
       "      <td>1664.386062</td>\n",
       "      <td>0</td>\n",
       "    </tr>\n",
       "    <tr>\n",
       "      <th>1995</th>\n",
       "      <td>43756.05660</td>\n",
       "      <td>63.971796</td>\n",
       "      <td>1622.722598</td>\n",
       "      <td>0</td>\n",
       "    </tr>\n",
       "  </tbody>\n",
       "</table>\n",
       "<p>3428 rows × 4 columns</p>\n",
       "</div>"
      ],
      "text/plain": [
       "           income        age         loan  default\n",
       "21    32197.62070 -52.423280  4244.057136        0\n",
       "26    63287.03891 -36.496976  9595.286289        0\n",
       "15    50501.72669 -28.218361  3977.287432        0\n",
       "1749  67119.13596  18.055189  2725.240313        0\n",
       "1680  29856.48632  18.055874  4731.816864        1\n",
       "...           ...        ...          ...      ...\n",
       "931   45783.15475  63.885044  7492.909820        0\n",
       "1848  40522.82828  63.887141  7720.780489        0\n",
       "401   62553.66841  63.924976  4641.704785        0\n",
       "939   29178.97759  63.930735  1664.386062        0\n",
       "1995  43756.05660  63.971796  1622.722598        0\n",
       "\n",
       "[3428 rows x 4 columns]"
      ]
     },
     "execution_count": 7,
     "metadata": {},
     "output_type": "execute_result"
    }
   ],
   "source": [
    "df.sort_values('age')"
   ]
  },
  {
   "cell_type": "markdown",
   "metadata": {},
   "source": [
    "A negative age value may suggest the true value despite being invalid. For example, an age value of -52 could be actually 52 due to a typo mistake. Thus, based on this assumption, we will convert the negative values to their positive representations."
   ]
  },
  {
   "cell_type": "code",
   "execution_count": 8,
   "metadata": {},
   "outputs": [],
   "source": [
    "df['age'] = df['age'].abs()"
   ]
  },
  {
   "cell_type": "code",
   "execution_count": 9,
   "metadata": {},
   "outputs": [
    {
     "data": {
      "text/html": [
       "<div>\n",
       "<style scoped>\n",
       "    .dataframe tbody tr th:only-of-type {\n",
       "        vertical-align: middle;\n",
       "    }\n",
       "\n",
       "    .dataframe tbody tr th {\n",
       "        vertical-align: top;\n",
       "    }\n",
       "\n",
       "    .dataframe thead th {\n",
       "        text-align: right;\n",
       "    }\n",
       "</style>\n",
       "<table border=\"1\" class=\"dataframe\">\n",
       "  <thead>\n",
       "    <tr style=\"text-align: right;\">\n",
       "      <th></th>\n",
       "      <th>income</th>\n",
       "      <th>age</th>\n",
       "      <th>loan</th>\n",
       "      <th>default</th>\n",
       "    </tr>\n",
       "  </thead>\n",
       "  <tbody>\n",
       "    <tr>\n",
       "      <th>count</th>\n",
       "      <td>3428.000000</td>\n",
       "      <td>3428.000000</td>\n",
       "      <td>3428.000000</td>\n",
       "      <td>3428.000000</td>\n",
       "    </tr>\n",
       "    <tr>\n",
       "      <th>mean</th>\n",
       "      <td>45136.875975</td>\n",
       "      <td>34.864292</td>\n",
       "      <td>5591.986695</td>\n",
       "      <td>0.500000</td>\n",
       "    </tr>\n",
       "    <tr>\n",
       "      <th>std</th>\n",
       "      <td>14425.486619</td>\n",
       "      <td>12.653256</td>\n",
       "      <td>3174.522430</td>\n",
       "      <td>0.500073</td>\n",
       "    </tr>\n",
       "    <tr>\n",
       "      <th>min</th>\n",
       "      <td>20014.489470</td>\n",
       "      <td>18.055189</td>\n",
       "      <td>1.377630</td>\n",
       "      <td>0.000000</td>\n",
       "    </tr>\n",
       "    <tr>\n",
       "      <th>25%</th>\n",
       "      <td>32827.211177</td>\n",
       "      <td>25.187842</td>\n",
       "      <td>3103.357467</td>\n",
       "      <td>0.000000</td>\n",
       "    </tr>\n",
       "    <tr>\n",
       "      <th>50%</th>\n",
       "      <td>45546.632873</td>\n",
       "      <td>30.107024</td>\n",
       "      <td>5540.305046</td>\n",
       "      <td>0.500000</td>\n",
       "    </tr>\n",
       "    <tr>\n",
       "      <th>75%</th>\n",
       "      <td>57514.794130</td>\n",
       "      <td>44.387971</td>\n",
       "      <td>7809.377943</td>\n",
       "      <td>1.000000</td>\n",
       "    </tr>\n",
       "    <tr>\n",
       "      <th>max</th>\n",
       "      <td>69995.685580</td>\n",
       "      <td>63.971796</td>\n",
       "      <td>13766.051240</td>\n",
       "      <td>1.000000</td>\n",
       "    </tr>\n",
       "  </tbody>\n",
       "</table>\n",
       "</div>"
      ],
      "text/plain": [
       "             income          age          loan      default\n",
       "count   3428.000000  3428.000000   3428.000000  3428.000000\n",
       "mean   45136.875975    34.864292   5591.986695     0.500000\n",
       "std    14425.486619    12.653256   3174.522430     0.500073\n",
       "min    20014.489470    18.055189      1.377630     0.000000\n",
       "25%    32827.211177    25.187842   3103.357467     0.000000\n",
       "50%    45546.632873    30.107024   5540.305046     0.500000\n",
       "75%    57514.794130    44.387971   7809.377943     1.000000\n",
       "max    69995.685580    63.971796  13766.051240     1.000000"
      ]
     },
     "execution_count": 9,
     "metadata": {},
     "output_type": "execute_result"
    }
   ],
   "source": [
    "df.describe()"
   ]
  },
  {
   "cell_type": "markdown",
   "metadata": {},
   "source": [
    "#### Normalisation"
   ]
  },
  {
   "cell_type": "markdown",
   "metadata": {},
   "source": [
    "Normalisation refers to rescaling by the minimum and range of the vector, to make all the elements lie between 0 and 1 thus bringing all the values of numeric columns in the dataset to a common scale.\n",
    "\n",
    "As seen from the dataset, the features have different ranges, where age ranges from 0–100 and income ranges from 20000-60000. Thus, income is about 600 times larger than age. So, these two features are in very different ranges. When we do further analysis, like multivariate linear regression, for example, the attributed income will intrinsically influence the result more due to its larger value. But this doesn’t necessarily mean it is more important as a predictor. So we normalize the data to bring all the variables to the same range by using MinMaxScalar."
   ]
  },
  {
   "cell_type": "code",
   "execution_count": 10,
   "metadata": {},
   "outputs": [
    {
     "name": "stdout",
     "output_type": "stream",
     "text": [
      "Index(['income', 'age', 'loan', 'default'], dtype='object')\n"
     ]
    },
    {
     "data": {
      "text/html": [
       "<div>\n",
       "<style scoped>\n",
       "    .dataframe tbody tr th:only-of-type {\n",
       "        vertical-align: middle;\n",
       "    }\n",
       "\n",
       "    .dataframe tbody tr th {\n",
       "        vertical-align: top;\n",
       "    }\n",
       "\n",
       "    .dataframe thead th {\n",
       "        text-align: right;\n",
       "    }\n",
       "</style>\n",
       "<table border=\"1\" class=\"dataframe\">\n",
       "  <thead>\n",
       "    <tr style=\"text-align: right;\">\n",
       "      <th></th>\n",
       "      <th>income</th>\n",
       "      <th>age</th>\n",
       "      <th>loan</th>\n",
       "      <th>default</th>\n",
       "    </tr>\n",
       "  </thead>\n",
       "  <tbody>\n",
       "    <tr>\n",
       "      <th>0</th>\n",
       "      <td>0.923176</td>\n",
       "      <td>0.892092</td>\n",
       "      <td>0.588837</td>\n",
       "      <td>0.0</td>\n",
       "    </tr>\n",
       "    <tr>\n",
       "      <th>1</th>\n",
       "      <td>0.288122</td>\n",
       "      <td>0.654708</td>\n",
       "      <td>0.476827</td>\n",
       "      <td>0.0</td>\n",
       "    </tr>\n",
       "    <tr>\n",
       "      <th>2</th>\n",
       "      <td>0.746334</td>\n",
       "      <td>0.981189</td>\n",
       "      <td>0.582620</td>\n",
       "      <td>0.0</td>\n",
       "    </tr>\n",
       "    <tr>\n",
       "      <th>3</th>\n",
       "      <td>0.454072</td>\n",
       "      <td>0.603198</td>\n",
       "      <td>0.443328</td>\n",
       "      <td>0.0</td>\n",
       "    </tr>\n",
       "    <tr>\n",
       "      <th>4</th>\n",
       "      <td>0.939117</td>\n",
       "      <td>0.011524</td>\n",
       "      <td>0.637045</td>\n",
       "      <td>1.0</td>\n",
       "    </tr>\n",
       "  </tbody>\n",
       "</table>\n",
       "</div>"
      ],
      "text/plain": [
       "     income       age      loan  default\n",
       "0  0.923176  0.892092  0.588837      0.0\n",
       "1  0.288122  0.654708  0.476827      0.0\n",
       "2  0.746334  0.981189  0.582620      0.0\n",
       "3  0.454072  0.603198  0.443328      0.0\n",
       "4  0.939117  0.011524  0.637045      1.0"
      ]
     },
     "execution_count": 10,
     "metadata": {},
     "output_type": "execute_result"
    }
   ],
   "source": [
    "from sklearn import preprocessing\n",
    "scaler = preprocessing.MinMaxScaler()\n",
    "# names = ['income', 'age', 'loan']\n",
    "names = df.columns\n",
    "print(names)\n",
    "d = scaler.fit_transform(df)\n",
    "df = pd.DataFrame(d, columns=names)\n",
    "df.head()"
   ]
  },
  {
   "cell_type": "markdown",
   "metadata": {},
   "source": [
    "A number of 1714 out of 3428 (or 50%) of clients will default next month. The data has appears to be balanced with respect of the target value (default payment next month)."
   ]
  },
  {
   "cell_type": "markdown",
   "metadata": {},
   "source": [
    "#### Check for collinearity"
   ]
  },
  {
   "cell_type": "code",
   "execution_count": 11,
   "metadata": {},
   "outputs": [],
   "source": [
    "X = df.loc[:,['income', 'age', 'loan']]\n",
    "Y = df.loc[:,\"default\"]"
   ]
  },
  {
   "cell_type": "code",
   "execution_count": 12,
   "metadata": {},
   "outputs": [
    {
     "name": "stdout",
     "output_type": "stream",
     "text": [
      "  feature       VIF\n",
      "0  income  5.615627\n",
      "1     age  1.883363\n",
      "2    loan  4.851633\n"
     ]
    }
   ],
   "source": [
    "from statsmodels.stats.outliers_influence import variance_inflation_factor\n",
    "vif_data = pd.DataFrame()\n",
    "vif_data[\"feature\"] = X.columns\n",
    "vif_data[\"VIF\"] = [variance_inflation_factor(X.values, i) for i in range(len(X.columns))]\n",
    "print(vif_data)"
   ]
  },
  {
   "cell_type": "code",
   "execution_count": 13,
   "metadata": {},
   "outputs": [
    {
     "data": {
      "image/png": "[encoded data removed]",
      "text/plain": [
       "<Figure size 432x432 with 1 Axes>"
      ]
     },
     "metadata": {
      "needs_background": "light"
     },
     "output_type": "display_data"
    },
    {
     "name": "stdout",
     "output_type": "stream",
     "text": [
      "1.0    1714\n",
      "0.0    1714\n",
      "Name: default, dtype: int64\n"
     ]
    }
   ],
   "source": [
    "temp = Y.value_counts()\n",
    "default = pd.DataFrame({'default payment': temp.index,'values': temp.values})\n",
    "plt.figure(figsize = (6,6))\n",
    "plt.title('Default Credit Card Clients - target value - data unbalance\\n (Default = 0, Not Default = 1)')\n",
    "sb.set_color_codes(\"pastel\")\n",
    "sb.barplot(x = 'default payment', y=\"values\", data=default)\n",
    "locs, labels = plt.xticks()\n",
    "plt.show()\n",
    "print(temp)"
   ]
  },
  {
   "cell_type": "markdown",
   "metadata": {},
   "source": [
    "### Train Test Split"
   ]
  },
  {
   "cell_type": "code",
   "execution_count": 14,
   "metadata": {},
   "outputs": [],
   "source": [
    "from sklearn.model_selection import train_test_split\n",
    "X_train, X_test, Y_train, Y_test = train_test_split(X,Y, test_size=0.3, random_state = 2)"
   ]
  },
  {
   "cell_type": "markdown",
   "metadata": {},
   "source": [
    "### Models"
   ]
  },
  {
   "cell_type": "markdown",
   "metadata": {},
   "source": [
    "#### Logistic Regression"
   ]
  },
  {
   "cell_type": "code",
   "execution_count": 15,
   "metadata": {},
   "outputs": [
    {
     "data": {
      "text/plain": [
       "LogisticRegression()"
      ]
     },
     "execution_count": 15,
     "metadata": {},
     "output_type": "execute_result"
    }
   ],
   "source": [
    "from sklearn.metrics import mean_squared_error\n",
    "from sklearn.linear_model import LogisticRegression\n",
    "from sklearn.metrics import confusion_matrix\n",
    "\n",
    "LR_model=LogisticRegression()\n",
    "LR_model.fit(X_train, Y_train)"
   ]
  },
  {
   "cell_type": "code",
   "execution_count": 16,
   "metadata": {},
   "outputs": [
    {
     "name": "stdout",
     "output_type": "stream",
     "text": [
      "0.9495623176323468\n"
     ]
    },
    {
     "data": {
      "image/png": "[encoded data removed]",
      "text/plain": [
       "<Figure size 288x216 with 2 Axes>"
      ]
     },
     "metadata": {
      "needs_background": "light"
     },
     "output_type": "display_data"
    }
   ],
   "source": [
    "pred=LR_model.predict(X_train)\n",
    "plt.figure(figsize=(4,3))\n",
    "cm = confusion_matrix(Y_train,pred)\n",
    "sb.heatmap(cm,annot=True, cmap=\"Blues\", fmt=\"d\", \n",
    "            xticklabels = ['Non-default', 'Default'], \n",
    "            yticklabels = ['Non-default', 'Default'])\n",
    "plt.ylabel('True label')\n",
    "plt.xlabel('Predicted label')\n",
    "plt.title(\"Confusion Matrix - Random Forest\");\n",
    "accuracy = (cm[0,0] + cm[1,1])/sum(sum(cm))\n",
    "print(accuracy)"
   ]
  },
  {
   "cell_type": "code",
   "execution_count": 17,
   "metadata": {},
   "outputs": [
    {
     "name": "stdout",
     "output_type": "stream",
     "text": [
      "0.9455782312925171\n"
     ]
    },
    {
     "data": {
      "image/png": "[encoded data removed]",
      "text/plain": [
       "<Figure size 288x216 with 2 Axes>"
      ]
     },
     "metadata": {
      "needs_background": "light"
     },
     "output_type": "display_data"
    }
   ],
   "source": [
    "pred = LR_model.predict(X_test)\n",
    "plt.figure(figsize=(4,3))\n",
    "cm = confusion_matrix(Y_test,pred)\n",
    "sb.heatmap(cm,annot=True, cmap=\"Blues\", fmt=\"d\", \n",
    "            xticklabels = ['Non-default', 'Default'], \n",
    "            yticklabels = ['Non-default', 'Default'])\n",
    "plt.ylabel('True label')\n",
    "plt.xlabel('Predicted label')\n",
    "plt.title(\"Confusion Matrix - Random Forest\");\n",
    "accuracy = (cm[0,0] + cm[1,1])/sum(sum(cm))\n",
    "print(accuracy)"
   ]
  },
  {
   "cell_type": "markdown",
   "metadata": {},
   "source": [
    "#### Decision Tree"
   ]
  },
  {
   "cell_type": "code",
   "execution_count": 18,
   "metadata": {},
   "outputs": [
    {
     "data": {
      "text/plain": [
       "{'max_depth': 17, 'min_samples_split': 11}"
      ]
     },
     "execution_count": 18,
     "metadata": {},
     "output_type": "execute_result"
    }
   ],
   "source": [
    "import math\n",
    "from sklearn import tree\n",
    "from sklearn.model_selection import GridSearchCV\n",
    "\n",
    "DT_model = tree.DecisionTreeClassifier()\n",
    "grid = GridSearchCV(estimator = DT_model, param_grid = dict(max_depth = [i for i in range(1, 20)], min_samples_split = [i for i in range(3, 20)]))\n",
    "grid_results = grid.fit(X, Y)\n",
    "grid_results.best_params_"
   ]
  },
  {
   "cell_type": "code",
   "execution_count": 19,
   "metadata": {},
   "outputs": [
    {
     "data": {
      "text/plain": [
       "DecisionTreeClassifier(max_depth=17, min_samples_split=11)"
      ]
     },
     "execution_count": 19,
     "metadata": {},
     "output_type": "execute_result"
    }
   ],
   "source": [
    "DT_model = tree.DecisionTreeClassifier(max_depth=grid_results.best_params_[\"max_depth\"], min_samples_split=grid_results.best_params_[\"min_samples_split\"])\n",
    "DT_model.fit(X_train,Y_train)"
   ]
  },
  {
   "cell_type": "code",
   "execution_count": 20,
   "metadata": {},
   "outputs": [
    {
     "name": "stdout",
     "output_type": "stream",
     "text": [
      "0.9966652771988328\n"
     ]
    },
    {
     "data": {
      "image/png": "[encoded data removed]",
      "text/plain": [
       "<Figure size 288x216 with 2 Axes>"
      ]
     },
     "metadata": {
      "needs_background": "light"
     },
     "output_type": "display_data"
    }
   ],
   "source": [
    "pred = DT_model.predict(X_train)\n",
    "plt.figure(figsize=(4,3))\n",
    "cm = confusion_matrix(Y_train,pred)\n",
    "sb.heatmap(cm,annot=True, cmap=\"Blues\", fmt=\"d\", \n",
    "            xticklabels = ['Non-default', 'Default'], \n",
    "            yticklabels = ['Non-default', 'Default'])\n",
    "plt.ylabel('True label')\n",
    "plt.xlabel('Predicted label')\n",
    "plt.title(\"Confusion Matrix - Random Forest\");\n",
    "accuracy = (cm[0,0] + cm[1,1])/sum(sum(cm))\n",
    "print(accuracy)"
   ]
  },
  {
   "cell_type": "code",
   "execution_count": 21,
   "metadata": {},
   "outputs": [
    {
     "name": "stdout",
     "output_type": "stream",
     "text": [
      "0.9883381924198251\n"
     ]
    },
    {
     "data": {
      "image/png": "[encoded data removed]",
      "text/plain": [
       "<Figure size 288x216 with 2 Axes>"
      ]
     },
     "metadata": {
      "needs_background": "light"
     },
     "output_type": "display_data"
    }
   ],
   "source": [
    "pred = DT_model.predict(X_test)\n",
    "plt.figure(figsize=(4,3))\n",
    "cm = confusion_matrix(Y_test,pred)\n",
    "sb.heatmap(cm,annot=True, cmap=\"Blues\", fmt=\"d\", \n",
    "            xticklabels = ['Non-default', 'Default'], \n",
    "            yticklabels = ['Non-default', 'Default'])\n",
    "plt.ylabel('True label')\n",
    "plt.xlabel('Predicted label')\n",
    "plt.title(\"Confusion Matrix - Random Forest\");\n",
    "accuracy = (cm[0,0] + cm[1,1])/sum(sum(cm))\n",
    "print(accuracy)"
   ]
  },
  {
   "cell_type": "markdown",
   "metadata": {},
   "source": [
    "#### Random Forest"
   ]
  },
  {
   "cell_type": "code",
   "execution_count": 22,
   "metadata": {},
   "outputs": [
    {
     "data": {
      "text/plain": [
       "RandomForestClassifier(max_depth=3)"
      ]
     },
     "execution_count": 22,
     "metadata": {},
     "output_type": "execute_result"
    }
   ],
   "source": [
    "from sklearn.ensemble import RandomForestClassifier\n",
    "RF_model = RandomForestClassifier(max_depth=3)\n",
    "RF_model.fit(X,Y)"
   ]
  },
  {
   "cell_type": "code",
   "execution_count": 23,
   "metadata": {},
   "outputs": [
    {
     "name": "stdout",
     "output_type": "stream",
     "text": [
      "0.9524802000833681\n"
     ]
    },
    {
     "data": {
      "image/png": "[encoded data removed]",
      "text/plain": [
       "<Figure size 288x216 with 2 Axes>"
      ]
     },
     "metadata": {
      "needs_background": "light"
     },
     "output_type": "display_data"
    }
   ],
   "source": [
    "pred = RF_model.predict(X_train)\n",
    "plt.figure(figsize=(4,3))\n",
    "cm = confusion_matrix(Y_train,pred)\n",
    "sb.heatmap(cm,annot=True, cmap=\"Blues\", fmt=\"d\", \n",
    "            xticklabels = ['Non-default', 'Default'], \n",
    "            yticklabels = ['Non-default', 'Default'])\n",
    "plt.ylabel('True label')\n",
    "plt.xlabel('Predicted label')\n",
    "plt.title(\"Confusion Matrix - Random Forest\");\n",
    "accuracy = (cm[0,0] + cm[1,1])/sum(sum(cm))\n",
    "print(accuracy)"
   ]
  },
  {
   "cell_type": "code",
   "execution_count": 24,
   "metadata": {},
   "outputs": [
    {
     "name": "stdout",
     "output_type": "stream",
     "text": [
      "0.9514091350826045\n"
     ]
    },
    {
     "data": {
      "image/png": "[encoded data removed]",
      "text/plain": [
       "<Figure size 288x216 with 2 Axes>"
      ]
     },
     "metadata": {
      "needs_background": "light"
     },
     "output_type": "display_data"
    }
   ],
   "source": [
    "pred = RF_model.predict(X_test)\n",
    "plt.figure(figsize=(4,3))\n",
    "cm = confusion_matrix(Y_test,pred)\n",
    "sb.heatmap(cm,annot=True, cmap=\"Blues\", fmt=\"d\", \n",
    "            xticklabels = ['Non-default', 'Default'], \n",
    "            yticklabels = ['Non-default', 'Default'])\n",
    "plt.ylabel('True label')\n",
    "plt.xlabel('Predicted label')\n",
    "plt.title(\"Confusion Matrix - Random Forest\");\n",
    "accuracy = (cm[0,0] + cm[1,1])/sum(sum(cm))\n",
    "print(accuracy)"
   ]
  },
  {
   "cell_type": "markdown",
   "metadata": {},
   "source": [
    "#### XGBoost"
   ]
  },
  {
   "cell_type": "code",
   "execution_count": 25,
   "metadata": {},
   "outputs": [],
   "source": [
    "from sklearn.ensemble import GradientBoostingClassifier"
   ]
  },
  {
   "cell_type": "code",
   "execution_count": 26,
   "metadata": {},
   "outputs": [
    {
     "data": {
      "text/plain": [
       "{'max_depth': 5}"
      ]
     },
     "execution_count": 26,
     "metadata": {},
     "output_type": "execute_result"
    }
   ],
   "source": [
    "XG_model = GradientBoostingClassifier()\n",
    "grid = GridSearchCV(estimator = XG_model, param_grid = dict(max_depth = [i for i in range(1, 20)]))\n",
    "grid_results = grid.fit(X, Y)\n",
    "grid_results.best_params_"
   ]
  },
  {
   "cell_type": "code",
   "execution_count": 27,
   "metadata": {},
   "outputs": [
    {
     "data": {
      "text/plain": [
       "GradientBoostingClassifier(max_depth=5)"
      ]
     },
     "execution_count": 27,
     "metadata": {},
     "output_type": "execute_result"
    }
   ],
   "source": [
    "XG_model = GradientBoostingClassifier(max_depth=grid_results.best_params_[\"max_depth\"])\n",
    "XG_model.fit(X_train,Y_train)"
   ]
  },
  {
   "cell_type": "code",
   "execution_count": 28,
   "metadata": {},
   "outputs": [
    {
     "name": "stdout",
     "output_type": "stream",
     "text": [
      "1.0\n"
     ]
    },
    {
     "data": {
      "image/png": "[encoded data removed]",
      "text/plain": [
       "<Figure size 288x216 with 2 Axes>"
      ]
     },
     "metadata": {
      "needs_background": "light"
     },
     "output_type": "display_data"
    }
   ],
   "source": [
    "pred = XG_model.predict(X_train)\n",
    "plt.figure(figsize=(4,3))\n",
    "cm = confusion_matrix(Y_train,pred)\n",
    "sb.heatmap(cm,annot=True, cmap=\"Blues\", fmt=\"d\", \n",
    "            xticklabels = ['Non-default', 'Default'], \n",
    "            yticklabels = ['Non-default', 'Default'])\n",
    "plt.ylabel('True label')\n",
    "plt.xlabel('Predicted label')\n",
    "plt.title(\"Confusion Matrix - Random Forest\");\n",
    "accuracy = (cm[0,0] + cm[1,1])/sum(sum(cm))\n",
    "print(accuracy)"
   ]
  },
  {
   "cell_type": "code",
   "execution_count": 29,
   "metadata": {},
   "outputs": [
    {
     "name": "stdout",
     "output_type": "stream",
     "text": [
      "0.9912536443148688\n"
     ]
    },
    {
     "data": {
      "image/png": "[encoded data removed]",
      "text/plain": [
       "<Figure size 288x216 with 2 Axes>"
      ]
     },
     "metadata": {
      "needs_background": "light"
     },
     "output_type": "display_data"
    }
   ],
   "source": [
    "pred = XG_model.predict(X_test)\n",
    "plt.figure(figsize=(4,3))\n",
    "cm = confusion_matrix(Y_test,pred)\n",
    "sb.heatmap(cm,annot=True, cmap=\"Blues\", fmt=\"d\", \n",
    "            xticklabels = ['Non-default', 'Default'], \n",
    "            yticklabels = ['Non-default', 'Default'])\n",
    "plt.ylabel('True label')\n",
    "plt.xlabel('Predicted label')\n",
    "plt.title(\"Confusion Matrix - Random Forest\");\n",
    "accuracy = (cm[0,0] + cm[1,1])/sum(sum(cm))\n",
    "print(accuracy)"
   ]
  },
  {
   "cell_type": "code",
   "execution_count": 30,
   "metadata": {},
   "outputs": [
    {
     "data": {
      "text/plain": [
       "['XGBoost']"
      ]
     },
     "execution_count": 30,
     "metadata": {},
     "output_type": "execute_result"
    }
   ],
   "source": [
    "import joblib\n",
    "joblib.dump(XG_model, \"XGBoost\")"
   ]
  },
  {
   "cell_type": "code",
   "execution_count": 31,
   "metadata": {},
   "outputs": [
    {
     "name": "stdout",
     "output_type": "stream",
     "text": [
      "[1.]\n"
     ]
    }
   ],
   "source": [
    "#test\n",
    "pred = XG_model.predict([[0.9, 0.01, 0.63]])\n",
    "print(pred)"
   ]
  },
  {
   "cell_type": "markdown",
   "metadata": {},
   "source": [
    "#### Neural Network"
   ]
  },
  {
   "cell_type": "code",
   "execution_count": 32,
   "metadata": {},
   "outputs": [],
   "source": [
    "from keras.models import Sequential\n",
    "import tensorflow as tf\n",
    "from keras.layers import Dense, Dropout"
   ]
  },
  {
   "cell_type": "code",
   "execution_count": 33,
   "metadata": {},
   "outputs": [],
   "source": [
    "model = Sequential()\n",
    "model.add(Dense(10, input_dim=3, activation='relu'))\n",
    "model.add(Dropout(0.2))\n",
    "model.add(Dense(1, activation='sigmoid'))\n",
    "model.compile(loss=\"binary_crossentropy\", metrics=[\"accuracy\"])"
   ]
  },
  {
   "cell_type": "code",
   "execution_count": 34,
   "metadata": {},
   "outputs": [
    {
     "name": "stdout",
     "output_type": "stream",
     "text": [
      "Epoch 1/10\n",
      "240/240 [==============================] - 19s 5ms/step - loss: 0.6381 - accuracy: 0.6634\n",
      "Epoch 2/10\n",
      "240/240 [==============================] - 1s 5ms/step - loss: 0.5329 - accuracy: 0.8040\n",
      "Epoch 3/10\n",
      "240/240 [==============================] - 1s 6ms/step - loss: 0.4478 - accuracy: 0.8403\n",
      "Epoch 4/10\n",
      "240/240 [==============================] - 1s 5ms/step - loss: 0.3796 - accuracy: 0.8601\n",
      "Epoch 5/10\n",
      "240/240 [==============================] - 2s 10ms/step - loss: 0.3218 - accuracy: 0.8878\n",
      "Epoch 6/10\n",
      "240/240 [==============================] - 4s 17ms/step - loss: 0.2855 - accuracy: 0.9038ETA: 2s - loss: 0.2853 - accura - E\n",
      "Epoch 7/10\n",
      "240/240 [==============================] - 1s 6ms/step - loss: 0.2673 - accuracy: 0.9081\n",
      "Epoch 8/10\n",
      "240/240 [==============================] - 2s 6ms/step - loss: 0.2413 - accuracy: 0.9192\n",
      "Epoch 9/10\n",
      "240/240 [==============================] - 2s 8ms/step - loss: 0.2152 - accuracy: 0.9323\n",
      "Epoch 10/10\n",
      "240/240 [==============================] - 2s 7ms/step - loss: 0.2163 - accuracy: 0.9299\n"
     ]
    },
    {
     "data": {
      "text/plain": [
       "<keras.callbacks.History at 0x1d84d1df208>"
      ]
     },
     "execution_count": 34,
     "metadata": {},
     "output_type": "execute_result"
    }
   ],
   "source": [
    "model.fit(X_train, Y_train, batch_size=10, epochs=10, verbose=1)"
   ]
  },
  {
   "cell_type": "code",
   "execution_count": 35,
   "metadata": {},
   "outputs": [
    {
     "name": "stdout",
     "output_type": "stream",
     "text": [
      "33/33 [==============================] - 1s 2ms/step - loss: 0.1848 - accuracy: 0.9446\n"
     ]
    },
    {
     "data": {
      "text/plain": [
       "[0.18482111394405365, 0.9446064233779907]"
      ]
     },
     "execution_count": 35,
     "metadata": {},
     "output_type": "execute_result"
    }
   ],
   "source": [
    "model.evaluate(X_test,Y_test)"
   ]
  },
  {
   "cell_type": "code",
   "execution_count": 36,
   "metadata": {},
   "outputs": [
    {
     "name": "stdout",
     "output_type": "stream",
     "text": [
      "0.948728636932055\n"
     ]
    },
    {
     "data": {
      "image/png": "[encoded data removed]",
      "text/plain": [
       "<Figure size 288x216 with 2 Axes>"
      ]
     },
     "metadata": {
      "needs_background": "light"
     },
     "output_type": "display_data"
    }
   ],
   "source": [
    "pred = model.predict(X_train)\n",
    "pred=np.where(pred>0.5,1,0)\n",
    "plt.figure(figsize=(4,3))\n",
    "cm = confusion_matrix(Y_train,pred)\n",
    "sb.heatmap(cm,annot=True, cmap=\"Blues\", fmt=\"d\", \n",
    "            xticklabels = ['Non-default', 'Default'], \n",
    "            yticklabels = ['Non-default', 'Default'])\n",
    "plt.ylabel('True label')\n",
    "plt.xlabel('Predicted label')\n",
    "plt.title(\"Confusion Matrix - Random Forest\");\n",
    "accuracy = (cm[0,0] + cm[1,1])/sum(sum(cm))\n",
    "print(accuracy)"
   ]
  },
  {
   "cell_type": "code",
   "execution_count": 37,
   "metadata": {},
   "outputs": [
    {
     "name": "stdout",
     "output_type": "stream",
     "text": [
      "0.9446064139941691\n"
     ]
    },
    {
     "data": {
      "image/png": "[encoded data removed]",
      "text/plain": [
       "<Figure size 288x216 with 2 Axes>"
      ]
     },
     "metadata": {
      "needs_background": "light"
     },
     "output_type": "display_data"
    }
   ],
   "source": [
    "pred = model.predict(X_test)\n",
    "pred=np.where(pred>0.5,1,0)\n",
    "plt.figure(figsize=(4,3))\n",
    "cm = confusion_matrix(Y_test,pred)\n",
    "sb.heatmap(cm,annot=True, cmap=\"Blues\", fmt=\"d\", \n",
    "            xticklabels = ['Non-default', 'Default'], \n",
    "            yticklabels = ['Non-default', 'Default'])\n",
    "plt.ylabel('True label')\n",
    "plt.xlabel('Predicted label')\n",
    "plt.title(\"Confusion Matrix - Random Forest\");\n",
    "accuracy = (cm[0,0] + cm[1,1])/sum(sum(cm))\n",
    "print(accuracy)"
   ]
  },
  {
   "cell_type": "code",
   "execution_count": 38,
   "metadata": {},
   "outputs": [
    {
     "name": "stdout",
     "output_type": "stream",
     "text": [
      "INFO:tensorflow:Assets written to: default\\assets\n"
     ]
    }
   ],
   "source": [
    "from keras.models import load_model\n",
    "model.save(\"default\")"
   ]
  }
 ],
 "metadata": {
  "kernelspec": {
   "display_name": "Python 3",
   "language": "python",
   "name": "python3"
  },
  "language_info": {
   "codemirror_mode": {
    "name": "ipython",
    "version": 3
   },
   "file_extension": ".py",
   "mimetype": "text/x-python",
   "name": "python",
   "nbconvert_exporter": "python",
   "pygments_lexer": "ipython3",
   "version": "3.7.6"
  }
 },
 "nbformat": 4,
 "nbformat_minor": 4
}
